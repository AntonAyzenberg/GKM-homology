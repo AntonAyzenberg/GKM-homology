{
 "cells": [
  {
   "cell_type": "code",
   "execution_count": 75,
   "metadata": {},
   "outputs": [],
   "source": [
    "#This code computes first several equivariant Betti numbers of \n",
    "#isospectral manifold corresponding to a given graph.\n",
    "#We assume that GKM-theory can be applied. \n",
    "#We use GKM theorem to describe equivariant cohomology graded-component-wise.\n",
    "#In particular, it is assumed that manifold is equiv. formal.\n",
    "#This leads to contradiction in some cases.\n",
    "\n",
    "#variable ceiling stores how many homogeneous gradings of \n",
    "#equiv. cohomology should be computed.\n",
    "ceiling=2\n",
    "GroundField=QQ\n",
    "\n",
    "#Initialize a graph. This one is Net\n",
    "VertSet=[1,2,3,4,5,6]    \n",
    "EdgeSet=[(1,2),(1,3),(2,3),(1,4),(2,4),(2,5),(3,5),(1,6),(3,6)]"
   ]
  },
  {
   "cell_type": "code",
   "execution_count": 76,
   "metadata": {},
   "outputs": [],
   "source": [
    "# It is important that edges are defined as (i,j) not [i,j]. \n",
    "# Setting [i,j] leads to an error when treating an edge as a transposition afterwards. \n",
    "\n",
    "G=Graph([VertSet, EdgeSet], format='vertices_and_edges')\n",
    "\n",
    "#n is the dimension of (noneffective) torus. \n",
    "#Here we work with noneffective action, since it is more convenient for GKM-theorem.\n",
    "n=len(VertSet)\n",
    "\n",
    "#2d is the real dimension of manifold.\n",
    "d=len(EdgeSet)"
   ]
  },
  {
   "cell_type": "code",
   "execution_count": 77,
   "metadata": {},
   "outputs": [],
   "source": [
    "#v0 stores complementary variable which will be specialized at edges. \n",
    "# v1,v2,... correspond to vertices of a graph G. \n",
    "#These are the generators of the polynomial algebra H*(BT)=Z[v1,...,vn] \n",
    "\n",
    "R = PolynomialRing(GroundField,n+1,\"v\")\n",
    "v=R.gens()"
   ]
  },
  {
   "cell_type": "code",
   "execution_count": 78,
   "metadata": {},
   "outputs": [],
   "source": [
    "#Here we initialize (unsigned) GKM-graph corresponding to our manifold. \n",
    "#All weights here have the form (0,...,0,1,0,..,0,-1,..,0) with 1 and -1 \n",
    "#on some positions i,j, where (i,j) is the edge of G.\n",
    "#We store the pair (i,j) as the label of edge of GKM-graph.\n",
    "\n",
    "Sigma = SymmetricGroup(VertSet)\n",
    "GKMedges = []\n",
    "for sigma in Sigma :\n",
    "    for e in EdgeSet :\n",
    "        tau = sigma*Sigma(e)\n",
    "        if Sigma.list().index(tau)>Sigma.list().index(sigma) :\n",
    "            GKMedges.append([sigma, tau, e])\n",
    "\n",
    "GKMgraph=Graph([Sigma, GKMedges], format='vertices_and_edges')"
   ]
  },
  {
   "cell_type": "code",
   "execution_count": 79,
   "metadata": {},
   "outputs": [],
   "source": [
    "#Here we compute characteristics of GKM-graph\n",
    "NumOfVert=len(GKMgraph.vertices())\n",
    "NumOfEdges=len(GKMgraph.edges())"
   ]
  },
  {
   "cell_type": "code",
   "execution_count": 80,
   "metadata": {},
   "outputs": [],
   "source": [
    "#We introduce the space, where our matrices live. \n",
    "#For simplicity (to forget signs), we work over Z_2.\n",
    "IncidSpace = MatrixSpace(GroundField,NumOfEdges,NumOfVert)\n",
    "IncidencePositions=[]"
   ]
  },
  {
   "cell_type": "code",
   "execution_count": 81,
   "metadata": {},
   "outputs": [],
   "source": [
    "#This is essentially the incidence matrix of GKM-graph. \n",
    "#We often appeal to it, so it is better to compute it once.\n",
    "#For each vertex we store the list of edges adjacent to that vertex. \n",
    "#Here by vertex|edge we mean their indices in the lists.\n",
    "for i in range(NumOfVert) :\n",
    "    vertex=GKMgraph.vertices()[i]\n",
    "    edges=GKMgraph.edges_incident(vertex)\n",
    "    curr = []\n",
    "    for e in edges :\n",
    "        r=list(GKMgraph.edges()).index(e)\n",
    "        if e[0]==vertex :\n",
    "            sign=1\n",
    "        else :\n",
    "            sign=-1\n",
    "        curr.append([r,sign])\n",
    "    IncidencePositions.append(curr)\n",
    "    \n",
    "for j in range(NumOfEdges) :\n",
    "    edge=GKMgraph.edges()[j]\n",
    "    IncidencePositionsTrans.append([edge[0],edge[1]])"
   ]
  },
  {
   "cell_type": "code",
   "execution_count": 82,
   "metadata": {},
   "outputs": [],
   "source": [
    "#This function is the basic block of \"Chang-Skjelbred-differential\". \n",
    "#Its input is a monomial from a graded component of Z[v1,...,vn]. \n",
    "#It lands in a monomial from Z[v1,...,vn]/(weight).\n",
    "#Since weight has the form (0,...,0,1,0,..,0,-1,..,0), \n",
    "#we simply substitute variables vi and vj with a single variable v0.\n",
    "\n",
    "def Substitute(mono, pair) :\n",
    "    w=[m for m in v]\n",
    "    w[0]=1\n",
    "    w[pair[0]]=v[0]\n",
    "    w[pair[1]]=v[0]\n",
    "    return mono(w)\n"
   ]
  },
  {
   "cell_type": "code",
   "execution_count": 83,
   "metadata": {},
   "outputs": [],
   "source": [
    "def EquivBetti(degree) :\n",
    "    #The collection of all monomials of degree degree in variables v1,...vn\n",
    "    MonomialBasis=[R.monomial(*e) for e in WeightedIntegerVectors(degree,[ceiling+1]+[1]*n)]\n",
    "    #The collection of all monomials of degree degree in var's v0,v1,...,vn\n",
    "    #At this point one can do some optimization, but let's leave it this way for simplicity\n",
    "    ExtendedBasis=[R.monomial(*e) for e in WeightedIntegerVectors(degree,[1]*(n+1))]\n",
    "\n",
    "    d1=NumOfVert\n",
    "    d2=len(MonomialBasis)\n",
    "\n",
    "    t1=NumOfEdges\n",
    "    t2=len(ExtendedBasis)\n",
    "    \n",
    "    #This dictionary stores a building block of Chang-Skjelbred differential\n",
    "    SubstitutionPositions={}\n",
    "    \n",
    "    for e in EdgeSet :\n",
    "        SubstitutionPositions[e]=[0]*t2\n",
    "        for i2 in range(d2) :\n",
    "            monom=MonomialBasis[i2]\n",
    "            outputMonom=Substitute(monom,e)\n",
    "            j2=ExtendedBasis.index(outputMonom)\n",
    "            SubstitutionPositions[e][i2]=j2\n",
    "\n",
    "    dTot=d1*d2\n",
    "    tTot=t1*t2\n",
    "    \n",
    "    #print(dTot, tTot)\n",
    "\n",
    "    Space = MatrixSpace(GroundField,tTot,dTot)\n",
    "    \n",
    "    #BFM stands for \"extremely big matrix\". \n",
    "    #This is the matrix of Chang-Skjelbred differential in the natural monomial basis.\n",
    "    BFM = Space([0]*dTot*tTot)\n",
    "\n",
    "    for i1 in range(d1) :\n",
    "        #vert=GKMgraph.vertices()[i1]\n",
    "        for j1a in IncidencePositions[i1] :\n",
    "            j1=j1a[0]\n",
    "            sign=j1a[1]\n",
    "            e=GKMgraph.edges(labels=True)[j1]\n",
    "            label=e[2]\n",
    "            for i2 in range(d2) :\n",
    "                j2=SubstitutionPositions[label][i2]\n",
    "                i=i2*d1+i1\n",
    "                j=j2*t1+j1\n",
    "                BFM[j,i]=sign\n",
    "       \n",
    "    print(\"BFM initialized\")\n",
    "    Kernel=BFM.right_nullity()\n",
    "    #It's better to print intermediate results as they appear, \n",
    "    #since calculations are time consuming\n",
    "    \n",
    "    print(\"degree=\", degree, \"EqDim =\", Kernel)\n",
    "    return Kernel"
   ]
  },
  {
   "cell_type": "code",
   "execution_count": 84,
   "metadata": {},
   "outputs": [
    {
     "name": "stdout",
     "output_type": "stream",
     "text": [
      "BFM initialized\n",
      "degree= 0 EqDim = 1\n",
      "BFM initialized\n",
      "degree= 1 EqDim = 5\n",
      "BFM initialized\n",
      "degree= 2 EqDim = 14\n",
      "BFM initialized\n",
      "degree= 3 EqDim = 29\n"
     ]
    }
   ],
   "source": [
    "#Return to main program. We compute equiv. Betti numbers from 0-th till (ceiling-1)-st.\n",
    "EquivBettis = [EquivBetti(degree) for degree in range(ceiling)]\n",
    "\n",
    "SerCont.<t> = QQ[]\n",
    "HilbEquiv=0\n",
    "for i in range(len(EquivBettis)) :\n",
    "    HilbEquiv+=(EquivBettis[i]*t^i)\n"
   ]
  },
  {
   "cell_type": "code",
   "execution_count": 85,
   "metadata": {},
   "outputs": [
    {
     "name": "stdout",
     "output_type": "stream",
     "text": [
      "-29*t^6 + 73*t^5 - 50*t^4 + t^3 + 2*t^2 + 2*t + 1\n"
     ]
    }
   ],
   "source": [
    "#Here we compute ordinary Betti numbers under equiv.formality assumption. This means\n",
    "# Hilb(H*)=Hilb(H*_T)*(1-t)^n\n",
    "HilbOrd=HilbEquiv*(1-t)^n\n",
    "\n",
    "print(HilbOrd)"
   ]
  },
  {
   "cell_type": "code",
   "execution_count": null,
   "metadata": {},
   "outputs": [],
   "source": []
  }
 ],
 "metadata": {
  "kernelspec": {
   "display_name": "SageMath 9.3",
   "language": "sage",
   "name": "sagemath"
  },
  "language_info": {
   "codemirror_mode": {
    "name": "ipython",
    "version": 3
   },
   "file_extension": ".py",
   "mimetype": "text/x-python",
   "name": "python",
   "nbconvert_exporter": "python",
   "pygments_lexer": "ipython3",
   "version": "3.7.10"
  }
 },
 "nbformat": 4,
 "nbformat_minor": 4
}
