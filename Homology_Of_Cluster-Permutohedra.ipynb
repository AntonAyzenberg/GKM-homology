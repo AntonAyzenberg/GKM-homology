{
 "cells": [
  {
   "cell_type": "code",
   "execution_count": 6,
   "metadata": {},
   "outputs": [],
   "source": [
    "#Defines the basic graph\n",
    "\n",
    "VertexSet = [1,2,3,4]\n",
    "EdgeSet = [[1,2],[1,3],[1,4]]\n",
    "\n",
    "G=Graph([VertexSet, EdgeSet], format='vertices_and_edges')"
   ]
  },
  {
   "cell_type": "code",
   "execution_count": 7,
   "metadata": {},
   "outputs": [],
   "source": [
    "#We only analyze a part of graphicahedron with elements of prescribed ranks. \n",
    "#These are stored in RanksOfInterest variable.\n",
    "RanksOfInterest=[0,1,2]\n",
    "\n",
    "#Uncomment to view the graph\n",
    "#G.show()"
   ]
  },
  {
   "cell_type": "code",
   "execution_count": 8,
   "metadata": {},
   "outputs": [],
   "source": [
    "#Define the lattice of flats, which defines the local structure of a graphicahedron\n",
    "M = Matroid(G)\n",
    "P = M.lattice_of_flats()\n",
    "\n",
    "#Uncomment to view Hasse diagram of lattice of flats\n",
    "#P.show()"
   ]
  },
  {
   "cell_type": "code",
   "execution_count": 9,
   "metadata": {},
   "outputs": [],
   "source": [
    "#We define an array of pairs (a flat, a coset of the corresponding block subgroup). \n",
    "#This will be the underlying set of the graphicahedron associated with G.\n",
    "#See details in Ayzenberg Buchstaber \n",
    "#Cluster-permutohedra and submanifolds of flag varieties with torus actions\n",
    "#to appear\n",
    "\n",
    "Sigma = SymmetricGroup(VertexSet)\n",
    "PiAndCoset = []\n",
    "Ranks = []\n",
    "i=0\n",
    "\n",
    "for Pi in P :\n",
    "    Sbgrp = Sigma.subgroup(Pi)\n",
    "    for coset in Sigma.cosets(Sbgrp, side='left') :\n",
    "        PiAndCoset.append((Pi,coset))\n",
    "        Ranks.append(M.rank(Pi))\n",
    "        i+=1\n",
    "\n",
    "NumberOfVert=i\n",
    "VertexSet = list(range(0, NumberOfVert))"
   ]
  },
  {
   "cell_type": "code",
   "execution_count": 10,
   "metadata": {},
   "outputs": [],
   "source": [
    "#Now we initialize a graphicahedron. The is a partial order on PiAndCoset, defined by \n",
    "#(Pi1,coset1)<=(Pi2,coset2) iff Pi1<=Pi2 and coset1 is a subset of coset2.\n",
    "#We define a function which checks this condition. \n",
    "#To check condition \"coset1 is a subset of coset2\" we simplify calculation: we take any element (e.g. 0-th) from coset1 \n",
    "#and check whether it lies in coset2. This gives correct answer since Pi1<Pi2 already implies G1<G2 for corresponding block groups\n",
    "\n",
    "#We define the partial order on the set {0,1,...,N-1} where N=NumberOfVert. Corresponding mathematical \n",
    "#labels are stored in the lists PiAndCoset and...\n",
    "\n",
    "def OrderRel(i,j) :\n",
    "    A=PiAndCoset[i]\n",
    "    B=PiAndCoset[j]\n",
    "    return P.is_lequal(A[0],B[0]) and A[1][0] in B[1]\n",
    "\n",
    "def Graphicahedron(ReqRanks) :\n",
    "    ans=[]\n",
    "    for i in VertexSet :\n",
    "        if Ranks[i] in ReqRanks :\n",
    "            ans.append(i)\n",
    "    return Poset((ans,OrderRel))\n",
    "\n",
    "Part = Graphicahedron(RanksOfInterest)\n",
    "#Part.show()"
   ]
  },
  {
   "cell_type": "code",
   "execution_count": 11,
   "metadata": {},
   "outputs": [
    {
     "name": "stdout",
     "output_type": "stream",
     "text": [
      "[1, 72, 216, 144]\n",
      "{0: 0, 1: Z x Z, 2: Z}\n"
     ]
    }
   ],
   "source": [
    "#Now we construct order complex and compute its simplicial homology\n",
    "K = Part.order_complex()\n",
    "\n",
    "#f-vector to know the statistics\n",
    "print(K.f_vector())\n",
    "print(K.homology())"
   ]
  },
  {
   "cell_type": "code",
   "execution_count": null,
   "metadata": {},
   "outputs": [],
   "source": []
  }
 ],
 "metadata": {
  "kernelspec": {
   "display_name": "SageMath 9.3",
   "language": "sage",
   "name": "sagemath"
  },
  "language_info": {
   "codemirror_mode": {
    "name": "ipython",
    "version": 3
   },
   "file_extension": ".py",
   "mimetype": "text/x-python",
   "name": "python",
   "nbconvert_exporter": "python",
   "pygments_lexer": "ipython3",
   "version": "3.7.10"
  }
 },
 "nbformat": 4,
 "nbformat_minor": 4
}
